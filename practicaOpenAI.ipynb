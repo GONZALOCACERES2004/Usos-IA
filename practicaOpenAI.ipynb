{
 "cells": [
  {
   "cell_type": "code",
   "execution_count": 2,
   "metadata": {},
   "outputs": [],
   "source": [
    "import openai\n",
    "from key import key"
   ]
  },
  {
   "cell_type": "markdown",
   "metadata": {},
   "source": [
    "# La clave se importa del archivo key.py  por seguridad"
   ]
  },
  {
   "cell_type": "code",
   "execution_count": 3,
   "metadata": {},
   "outputs": [],
   "source": [
    "# Configuración de la API de OpenAI\n",
    "openai.api_key = key"
   ]
  },
  {
   "cell_type": "code",
   "execution_count": 5,
   "metadata": {},
   "outputs": [
    {
     "name": "stdout",
     "output_type": "stream",
     "text": [
      "\n",
      "--- Blog Generado ---\n",
      "\n",
      "1. Título: \"¡Cuidado! Gases Tóxicos en Refinerías: Seguridad al Máximo\"\n",
      "\n",
      "2. Introducción:\n",
      "La manipulación segura de gases tóxicos en refinerías es crucial para prevenir accidentes industriales. Este blog ilustra las mejores prácticas y reglamentaciones actuales para garantizar un ambiente de trabajo seguro.\n",
      "\n",
      "3. Cuerpo principal:\n",
      "\n",
      "    - Problema o Riesgo:\n",
      "    \n",
      "    Las refinerías de petróleo manejan una gran cantidad de gases tóxicos y volátiles que pueden causar graves daños a la salud y al medio ambiente. Según la Agencia de Protección Ambiental de los EE. UU., en 2019, el 10% de todos los accidentes industriales estuvieron relacionados con la liberación de gases tóxicos.\n",
      "\n",
      "    - Regulaciones y Estándares Aplicables:\n",
      "    \n",
      "    La Administración de Salud y Seguridad Ocupacional (OSHA) y la Agencia de Protección Ambiental (EPA) de los EE.UU. han establecido reglamentaciones estrictas para el manejo de gases tóxicos. Por ejemplo, la norma 29 CFR 1910.1000 de OSHA establece los límites de exposición permitidos para numerosos gases tóxicos.\n",
      "\n",
      "    - Mejores Prácticas:\n",
      "    \n",
      "    Aquí hay algunos consejos prácticos para manejar gases tóxicos de manera segura:\n",
      "\n",
      "        - Proporcione Equipos de Protección Personal (EPP) adecuados a los trabajadores.\n",
      "\n",
      "        - Realice un análisis de riesgos regularmente para identificar posibles peligros.\n",
      "\n",
      "        - Implemente sistemas de ventilación eficientes.\n",
      "\n",
      "        - Proporcione capacitaciones regulares a los trabajadores sobre cómo manejar situaciones de emergencia.\n",
      "\n",
      "        - Mantenga un plan de respuesta a emergencias actualizado.\n",
      "\n",
      "4. Conclusión:\n",
      "La seguridad en el manejo de gases tóxicos en refinerías es de vital importancia para proteger a los trabajadores y al medio ambiente. Siguiendo las regulaciones actuales y adoptando mejores prácticas, podemos minimizar los riesgos asociados.\n",
      "\n",
      "5. Llamada a la acción:\n",
      "¿Estás haciendo todo lo posible para manejar de manera segura los gases tóxicos en tu refinería? Es hora de revisar tus prácticas y garantizar un entorno de trabajo seguro para todos. ¡Actúa ahora para prevenir accidentes mañana!\n"
     ]
    }
   ],
   "source": [
    "def generar_blog_sobre_seguridad(tema):\n",
    "    # Prompt diseñado en el Ejercicio 1\n",
    "    prompt = f\"\"\"\n",
    "    Eres un experto en seguridad industrial en el sector petrolero y trabajas como blogger para una consultora. \n",
    "    Crea una entrada de blog informativa y atractiva sobre \"{tema}\", educando a los profesionales sobre mejores \n",
    "    prácticas y regulaciones actuales.\n",
    "\n",
    "    Formato de salida:\n",
    "    1. Título llamativo (máximo 10 palabras).\n",
    "    2. Introducción: Breve, de 2-3 oraciones que resuma la importancia del tema.\n",
    "    3. Cuerpo principal:\n",
    "        - Describe el problema o riesgo relacionado con el tema.\n",
    "        - Menciona regulaciones o estándares aplicables.\n",
    "        - Proporciona consejos prácticos o mejores prácticas.\n",
    "    4. Conclusión: Breve resumen del tema en 1-2 oraciones.\n",
    "    5. Llamada a la acción: Invita al lector a actuar.\n",
    "    \n",
    "    El contenido debe:\n",
    "    - Incluir estadísticas relevantes y actualizadas.\n",
    "    - Usar un tono profesional pero accesible.\n",
    "    - Incluir subtítulos para separar secciones.\n",
    "    - Tener una lista con viñetas para los consejos clave.\n",
    "    - Tener una longitud total de 400-500 palabras.\n",
    "\n",
    "    Escribe el blog ahora:\n",
    "    \"\"\"\n",
    "\n",
    "    # Generar respuesta de OpenAI usando el modelo GPT\n",
    "    respuesta = openai.ChatCompletion.create(\n",
    "        model=\"gpt-4\",  # Usar el modelo GPT-4\n",
    "        messages=[\n",
    "            {\"role\": \"system\", \"content\": \"Eres un experto en seguridad industrial.\"},\n",
    "            {\"role\": \"user\", \"content\": prompt}\n",
    "        ],\n",
    "        max_tokens=1000,  # Ajustar según la longitud deseada\n",
    "        temperature=0.7  # Nivel de creatividad\n",
    "    )\n",
    "    \n",
    "    # Retornar la respuesta generada\n",
    "    return respuesta.choices[0].message['content'].strip()\n",
    "\n",
    "# Toma de entrada del usuario\n",
    "tema_usuario = input(\"Escribe el tema del blog (ejemplo: Seguridad en el manejo de gases tóxicos en refinerías): \")\n",
    "\n",
    "# Generar y mostrar el blog\n",
    "\n",
    "blog_generado = generar_blog_sobre_seguridad(tema_usuario)\n",
    "print(\"\\n--- Blog Generado ---\\n\")\n",
    "print(blog_generado)"
   ]
  }
 ],
 "metadata": {
  "kernelspec": {
   "display_name": "base",
   "language": "python",
   "name": "python3"
  },
  "language_info": {
   "codemirror_mode": {
    "name": "ipython",
    "version": 3
   },
   "file_extension": ".py",
   "mimetype": "text/x-python",
   "name": "python",
   "nbconvert_exporter": "python",
   "pygments_lexer": "ipython3",
   "version": "3.11.5"
  }
 },
 "nbformat": 4,
 "nbformat_minor": 2
}
